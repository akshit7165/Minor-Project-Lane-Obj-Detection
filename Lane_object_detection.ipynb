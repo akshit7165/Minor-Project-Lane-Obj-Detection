{
  "nbformat": 4,
  "nbformat_minor": 0,
  "metadata": {
    "accelerator": "GPU",
    "colab": {
      "name": "Lane_object_detection.ipynb",
      "provenance": [],
      "collapsed_sections": [],
      "include_colab_link": true
    },
    "kernelspec": {
      "display_name": "Python 3",
      "name": "python3"
    }
  },
  "cells": [
    {
      "cell_type": "markdown",
      "metadata": {
        "id": "view-in-github",
        "colab_type": "text"
      },
      "source": [
        "<a href=\"https://colab.research.google.com/github/akshit7165/Minor-Project-Lane-Obj-Detection/blob/main/Lane_object_detection.ipynb\" target=\"_parent\"><img src=\"https://colab.research.google.com/assets/colab-badge.svg\" alt=\"Open In Colab\"/></a>"
      ]
    },
    {
      "cell_type": "code",
      "metadata": {
        "colab": {
          "base_uri": "https://localhost:8080/"
        },
        "id": "WZllmYhBl9-j",
        "outputId": "4edb3d5d-35f3-4d3e-b0a4-0ff490ef1b56"
      },
      "source": [
        "\n",
        "! git clone https://github.com/akshit7165/Minor-Project-Lane-Obj-Detection.git\n",
        "! mv Minor-Project-Lane-Obj-Detection/* ./\n",
        "! mkdir videos\n",
        "! mkdir images\n",
        "! mkdir images/from_video\n",
        "! mkdir images/detection\n",
        "# ! wget  -P ./model_data/  https://pjreddie.com/media/files/yolov3.weights\n",
        "! wget -P ./model_data/ https://s3-ap-southeast-1.amazonaws.com/deeplearning-mat/backend.h5\n",
        "!pip install git+git://github.com/minwook-shin/pytube --force"
      ],
      "execution_count": null,
      "outputs": [
        {
          "output_type": "stream",
          "name": "stdout",
          "text": [
            "Cloning into 'Minor-Project-Lane-Obj-Detection'...\n",
            "remote: Enumerating objects: 65, done.\u001b[K\n",
            "remote: Counting objects: 100% (65/65), done.\u001b[K\n",
            "remote: Compressing objects: 100% (56/56), done.\u001b[K\n",
            "remote: Total 65 (delta 6), reused 65 (delta 6), pack-reused 0\u001b[K\n",
            "Unpacking objects: 100% (65/65), done.\n",
            "mkdir: cannot create directory ‘images’: File exists\n",
            "--2022-02-21 15:58:56--  https://s3-ap-southeast-1.amazonaws.com/deeplearning-mat/backend.h5\n",
            "Resolving s3-ap-southeast-1.amazonaws.com (s3-ap-southeast-1.amazonaws.com)... 52.219.129.66\n",
            "Connecting to s3-ap-southeast-1.amazonaws.com (s3-ap-southeast-1.amazonaws.com)|52.219.129.66|:443... connected.\n",
            "HTTP request sent, awaiting response... 200 OK\n",
            "Length: 248671664 (237M) [application/x-www-form-urlencoded]\n",
            "Saving to: ‘./model_data/backend.h5’\n",
            "\n",
            "backend.h5          100%[===================>] 237.15M  14.0MB/s    in 19s     \n",
            "\n",
            "2022-02-21 15:59:16 (12.7 MB/s) - ‘./model_data/backend.h5’ saved [248671664/248671664]\n",
            "\n",
            "Collecting git+git://github.com/minwook-shin/pytube\n",
            "  Cloning git://github.com/minwook-shin/pytube to /tmp/pip-req-build-u9831bdt\n",
            "  Running command git clone -q git://github.com/minwook-shin/pytube /tmp/pip-req-build-u9831bdt\n",
            "  fatal: remote error:\n",
            "    Repository not found.\n",
            "\u001b[33mWARNING: Discarding git+git://github.com/minwook-shin/pytube. Command errored out with exit status 128: git clone -q git://github.com/minwook-shin/pytube /tmp/pip-req-build-u9831bdt Check the logs for full command output.\u001b[0m\n",
            "\u001b[31mERROR: Command errored out with exit status 128: git clone -q git://github.com/minwook-shin/pytube /tmp/pip-req-build-u9831bdt Check the logs for full command output.\u001b[0m\n"
          ]
        }
      ]
    },
    {
      "cell_type": "code",
      "metadata": {
        "colab": {
          "base_uri": "https://localhost:8080/"
        },
        "id": "flaA5psKppXa",
        "outputId": "41e4d9d6-b72a-4299-cbea-58f99175cc2b"
      },
      "source": [
        "!pip install pytube \n",
        "from pytube import YouTube \n",
        "import numpy as np\n",
        "import cv2\n",
        "from google.colab.patches import cv2_imshow\n"
      ],
      "execution_count": null,
      "outputs": [
        {
          "output_type": "stream",
          "name": "stdout",
          "text": [
            "Collecting pytube\n",
            "  Downloading pytube-12.0.0-py3-none-any.whl (56 kB)\n",
            "\u001b[?25l\r\u001b[K     |█████▉                          | 10 kB 34.8 MB/s eta 0:00:01\r\u001b[K     |███████████▋                    | 20 kB 42.7 MB/s eta 0:00:01\r\u001b[K     |█████████████████▍              | 30 kB 37.7 MB/s eta 0:00:01\r\u001b[K     |███████████████████████▏        | 40 kB 28.0 MB/s eta 0:00:01\r\u001b[K     |█████████████████████████████   | 51 kB 31.5 MB/s eta 0:00:01\r\u001b[K     |████████████████████████████████| 56 kB 5.4 MB/s \n",
            "\u001b[?25hInstalling collected packages: pytube\n",
            "Successfully installed pytube-12.0.0\n"
          ]
        }
      ]
    },
    {
      "cell_type": "code",
      "metadata": {
        "id": "0fSGSgiRqsKQ"
      },
      "source": [
        "def download_file(link, file) :\n",
        "  video = \"./videos/\" #to_do \n",
        "  yt = YouTube(link)   \n",
        "  yt.streams.filter(progressive=True, file_extension='mp4').order_by('resolution').first().download(output_path=video, filename=str(file))\n",
        "\n",
        "  print(link, ' Downloaded to ',video+ str(file))\n",
        "\n",
        "  return video+ str(file)+\".mp4\""
      ],
      "execution_count": null,
      "outputs": []
    },
    {
      "cell_type": "code",
      "metadata": {
        "colab": {
          "base_uri": "https://localhost:8080/",
          "height": 53
        },
        "id": "ov9cIyvcGpx6",
        "outputId": "0fe8bfcb-b905-4346-be1c-1bc1631d7fe5"
      },
      "source": [
        "\n",
        "# download_file(\"https://youtu.be/PA0O9Rapv38\",\"nice_road\")\n",
        "download_file(\"https://www.youtube.com/watch?v=N0gzsIzzPJ4\",\"nice_road\")\n"
      ],
      "execution_count": null,
      "outputs": [
        {
          "output_type": "stream",
          "name": "stdout",
          "text": [
            "https://www.youtube.com/watch?v=N0gzsIzzPJ4  Downloaded to  ./videos/nice_road\n"
          ]
        },
        {
          "output_type": "execute_result",
          "data": {
            "application/vnd.google.colaboratory.intrinsic+json": {
              "type": "string"
            },
            "text/plain": [
              "'./videos/nice_road.mp4'"
            ]
          },
          "metadata": {},
          "execution_count": 9
        }
      ]
    },
    {
      "cell_type": "code",
      "metadata": {
        "colab": {
          "base_uri": "https://localhost:8080/",
          "height": 408
        },
        "id": "1TyMYguSnHph",
        "outputId": "76b1397b-ea63-496c-db6b-404412ffa579"
      },
      "source": [
        "!pip install LANE_DETECTION\n",
        "from lane_detection import LANE_DETECTION\n",
        "video_reader =  cv2.VideoCapture(\"/content/videos/nice_road\") \n",
        "fps =  video_reader.get(cv2.CAP_PROP_FPS)\n",
        "nb_frames = int(video_reader.get(cv2.CAP_PROP_FRAME_COUNT))\n",
        "frame_h = int(video_reader.get(cv2.CAP_PROP_FRAME_HEIGHT))\n",
        "frame_w = int(video_reader.get(cv2.CAP_PROP_FRAME_WIDTH))\n",
        "pers_frame_time = 398# seconds\n",
        "pers_frame = int(pers_frame_time *fps)\n",
        "video_reader.set(1,pers_frame)\n",
        "ret, image = video_reader.read()\n",
        "ld = LANE_DETECTION( image,fps, \n",
        "                    yellow_lower = np.uint8([ 20, 50,   110]),\n",
        "                    yellow_upper = np.uint8([35, 255, 255]),\n",
        "                    white_lower = np.uint8([ 0, 140,   0]), \n",
        "                    white_upper = np.uint8([255, 255, 100]), \n",
        "                    lum_factor = 110,\n",
        "                    lane_start=[0.2,0.5])\n",
        "cv2_imshow(image)\n",
        "\n",
        "cv2_imshow(cv2.imread(\"./images/detection/perspective_lines.jpg\"))\n",
        "cv2_imshow(cv2.imread(\"./images/detection/vanishing_point.jpg\"))\n",
        "cv2_imshow(cv2.imread(\"./images/detection/edges.jpg\"))\n",
        "cv2_imshow(cv2.imread(\"./images/detection/mask.jpg\"))\n",
        "cv2_imshow(cv2.imread(\"./images/detection/masked_regions.jpg\"))\n",
        "cv2_imshow(cv2.imread(\"./images/detection/lane_width.jpg\"))\n",
        "\n",
        "\n",
        "\n",
        "\n",
        "\n",
        "\n",
        "\n",
        "# proc_img = ld.process_image(image)\n",
        "# cv2_imshow(proc_img)\n"
      ],
      "execution_count": null,
      "outputs": [
        {
          "output_type": "stream",
          "name": "stdout",
          "text": [
            "\u001b[31mERROR: Could not find a version that satisfies the requirement LANE_DETECTION (from versions: none)\u001b[0m\n",
            "\u001b[31mERROR: No matching distribution found for LANE_DETECTION\u001b[0m\n"
          ]
        },
        {
          "output_type": "error",
          "ename": "AttributeError",
          "evalue": "ignored",
          "traceback": [
            "\u001b[0;31m---------------------------------------------------------------------------\u001b[0m",
            "\u001b[0;31mAttributeError\u001b[0m                            Traceback (most recent call last)",
            "\u001b[0;32m<ipython-input-11-3abdc43b9d0c>\u001b[0m in \u001b[0;36m<module>\u001b[0;34m()\u001b[0m\n\u001b[1;32m     17\u001b[0m                     \u001b[0mlum_factor\u001b[0m \u001b[0;34m=\u001b[0m \u001b[0;36m110\u001b[0m\u001b[0;34m,\u001b[0m\u001b[0;34m\u001b[0m\u001b[0;34m\u001b[0m\u001b[0m\n\u001b[1;32m     18\u001b[0m                     \u001b[0;31m# lane_start=[0.2,0.5]\u001b[0m\u001b[0;34m\u001b[0m\u001b[0;34m\u001b[0m\u001b[0;34m\u001b[0m\u001b[0m\n\u001b[0;32m---> 19\u001b[0;31m                     lane_start=[0.1,0.5])\n\u001b[0m\u001b[1;32m     20\u001b[0m \u001b[0mcv2_imshow\u001b[0m\u001b[0;34m(\u001b[0m\u001b[0mimage\u001b[0m\u001b[0;34m)\u001b[0m\u001b[0;34m\u001b[0m\u001b[0;34m\u001b[0m\u001b[0m\n\u001b[1;32m     21\u001b[0m \u001b[0;34m\u001b[0m\u001b[0m\n",
            "\u001b[0;32m/content/lane_detection.py\u001b[0m in \u001b[0;36m__init__\u001b[0;34m(self, img, fps, yellow_lower, yellow_upper, white_lower, white_upper, lum_factor, max_gap_th, lane_start, verbose)\u001b[0m\n\u001b[1;32m    272\u001b[0m \u001b[0;34m\u001b[0m\u001b[0m\n\u001b[1;32m    273\u001b[0m         \u001b[0mself\u001b[0m\u001b[0;34m.\u001b[0m\u001b[0mimage\u001b[0m \u001b[0;34m=\u001b[0m  \u001b[0mimg\u001b[0m\u001b[0;34m\u001b[0m\u001b[0;34m\u001b[0m\u001b[0m\n\u001b[0;32m--> 274\u001b[0;31m         \u001b[0mself\u001b[0m\u001b[0;34m.\u001b[0m\u001b[0mfont_sz\u001b[0m \u001b[0;34m=\u001b[0m \u001b[0;36m4e-4\u001b[0m \u001b[0;34m*\u001b[0m \u001b[0mself\u001b[0m\u001b[0;34m.\u001b[0m\u001b[0mimage\u001b[0m\u001b[0;34m.\u001b[0m\u001b[0mshape\u001b[0m\u001b[0;34m[\u001b[0m\u001b[0;36m0\u001b[0m\u001b[0;34m]\u001b[0m\u001b[0;34m\u001b[0m\u001b[0;34m\u001b[0m\u001b[0m\n\u001b[0m\u001b[1;32m    275\u001b[0m         \u001b[0mself\u001b[0m\u001b[0;34m.\u001b[0m\u001b[0mimg_dimensions\u001b[0m \u001b[0;34m=\u001b[0m  \u001b[0;34m(\u001b[0m\u001b[0mself\u001b[0m\u001b[0;34m.\u001b[0m\u001b[0mimage\u001b[0m\u001b[0;34m.\u001b[0m\u001b[0mshape\u001b[0m\u001b[0;34m[\u001b[0m\u001b[0;36m0\u001b[0m\u001b[0;34m]\u001b[0m\u001b[0;34m,\u001b[0m \u001b[0mself\u001b[0m\u001b[0;34m.\u001b[0m\u001b[0mimage\u001b[0m\u001b[0;34m.\u001b[0m\u001b[0mshape\u001b[0m\u001b[0;34m[\u001b[0m\u001b[0;36m1\u001b[0m\u001b[0;34m]\u001b[0m\u001b[0;34m)\u001b[0m\u001b[0;34m\u001b[0m\u001b[0;34m\u001b[0m\u001b[0m\n\u001b[1;32m    276\u001b[0m         \u001b[0mself\u001b[0m\u001b[0;34m.\u001b[0m\u001b[0mUNWARPED_SIZE\u001b[0m  \u001b[0;34m=\u001b[0m \u001b[0;34m(\u001b[0m\u001b[0;36m360\u001b[0m\u001b[0;34m,\u001b[0m\u001b[0;36m360\u001b[0m\u001b[0;34m)\u001b[0m\u001b[0;31m#(int(self.img_dimensions[1]*0.5),int(self.img_dimensions[1]*0.5))\u001b[0m\u001b[0;34m\u001b[0m\u001b[0;34m\u001b[0m\u001b[0m\n",
            "\u001b[0;31mAttributeError\u001b[0m: 'NoneType' object has no attribute 'shape'"
          ]
        }
      ]
    },
    {
      "cell_type": "code",
      "metadata": {
        "colab": {
          "base_uri": "https://localhost:8080/"
        },
        "id": "TAMKTPqz5d3u",
        "outputId": "f2cd3f2e-444c-48d3-eb67-9200754f15d1"
      },
      "source": [
        "image.shape"
      ],
      "execution_count": null,
      "outputs": [
        {
          "output_type": "execute_result",
          "data": {
            "text/plain": [
              "(360, 640, 3)"
            ]
          },
          "metadata": {},
          "execution_count": 6
        }
      ]
    },
    {
      "cell_type": "code",
      "metadata": {
        "colab": {
          "base_uri": "https://localhost:8080/"
        },
        "id": "v-HZThpynLeo",
        "outputId": "59fc7368-8efe-4a0d-e5a0-5162e8320896"
      },
      "source": [
        "from frame import FRAME\n",
        "\n",
        "file_path =  \"/content/videos/nice_road\"         \n",
        "video_out = \"/content/videos/output.mp4\"\n",
        "frame =  FRAME( \n",
        "    ego_vehicle_offset = .0,                       \n",
        "    yellow_lower = np.uint8([ 20, 50,   110]),      \n",
        "    yellow_upper = np.uint8([35, 255, 255]),        \n",
        "    white_lower = np.uint8([ 0, 140,   0]),         \n",
        "    white_upper = np.uint8([180, 255, 100]),        \n",
        "    lum_factor = 110,                               \n",
        "    max_gap_th = 0.45,                              \n",
        "    YOLO_PERIOD = 2,                              \n",
        "    lane_start=[0.2,0.5] ,                        \n",
        "    verbose = 3)                                 \n",
        "frame.process_video(file_path, 2,\\\n",
        "        video_out = video_out,pers_frame_time =398,\\\n",
        "        t0  =398 , t1 =698)                  "
      ],
      "execution_count": null,
      "outputs": [
        {
          "output_type": "stream",
          "name": "stdout",
          "text": [
            "/content/videos/nice_road WIDTH 640 HEIGHT 360 FPS 29.97 DUR 1686.0 s\n",
            "PERSPECTIVE TRANSFORMATION MATRIX COMPUTED\n"
          ]
        },
        {
          "output_type": "stream",
          "name": "stderr",
          "text": [
            "\r  0%|          | 0/8991 [00:00<?, ?it/s]/usr/local/lib/python3.7/dist-packages/numpy/core/fromnumeric.py:3441: RuntimeWarning: Mean of empty slice.\n",
            "  out=out, **kwargs)\n",
            "/usr/local/lib/python3.7/dist-packages/numpy/core/_methods.py:189: RuntimeWarning: invalid value encountered in double_scalars\n",
            "  ret = ret.dtype.type(ret / rcount)\n",
            "  0%|          | 1/8991 [00:12<30:22:17, 12.16s/it]"
          ]
        },
        {
          "output_type": "stream",
          "name": "stdout",
          "text": [
            "\n",
            "LANE CHANGE TO RIGHT\u001b[F\n",
            "\n",
            "LANE CHANGE TO LEFT\u001b[F\n"
          ]
        },
        {
          "output_type": "stream",
          "name": "stderr",
          "text": [
            "  4%|▍         | 353/8991 [00:18<05:18, 27.09it/s]"
          ]
        },
        {
          "output_type": "stream",
          "name": "stdout",
          "text": [
            "\n",
            "\rLANE CHANGE TO RIGHT\u001b[F\n"
          ]
        },
        {
          "output_type": "stream",
          "name": "stderr",
          "text": [
            "\r  6%|▋         | 571/8991 [00:21<03:32, 39.66it/s]"
          ]
        },
        {
          "output_type": "stream",
          "name": "stdout",
          "text": [
            "\n",
            "\rLANE CHANGE TO LEFT\u001b[F\n"
          ]
        },
        {
          "output_type": "stream",
          "name": "stderr",
          "text": [
            "\r  9%|▉         | 793/8991 [00:24<02:46, 49.22it/s]"
          ]
        },
        {
          "output_type": "stream",
          "name": "stdout",
          "text": [
            "SKIPPED 20% BREACHED 5% RESET 1% APPENDED 72% | Time 29s , Processing FPS 14.48 vs Desired FPS 14.00  \n",
            "\n",
            "\rGOT EXEPTION TO PROCES THE IMAGE\u001b[F 423\n"
          ]
        },
        {
          "output_type": "stream",
          "name": "stderr",
          "text": [
            "\r 11%|█▏        | 1019/8991 [00:27<02:20, 56.65it/s]"
          ]
        },
        {
          "output_type": "stream",
          "name": "stdout",
          "text": [
            "\n",
            "LANE CHANGE TO LEFT\u001b[F\n",
            "\n",
            "LANE CHANGE TO RIGHT\u001b[F\n"
          ]
        },
        {
          "output_type": "stream",
          "name": "stderr",
          "text": [
            "\r 14%|█▎        | 1231/8991 [00:30<02:15, 57.15it/s]"
          ]
        },
        {
          "output_type": "stream",
          "name": "stdout",
          "text": [
            "\n",
            "LANE CHANGE TO LEFT\u001b[F\n",
            "\n",
            "LANE CHANGE TO RIGHT\u001b[F\n"
          ]
        },
        {
          "output_type": "stream",
          "name": "stderr",
          "text": [
            " 18%|█▊        | 1643/8991 [00:39<02:18, 53.17it/s]"
          ]
        },
        {
          "output_type": "stream",
          "name": "stdout",
          "text": [
            "SKIPPED 21% BREACHED 4% RESET 0% APPENDED 72% | Time 15s , Processing FPS 28.00 vs Desired FPS 14.00  \n"
          ]
        },
        {
          "output_type": "stream",
          "name": "stderr",
          "text": [
            "\r 21%|██        | 1867/8991 [00:42<02:01, 58.61it/s]"
          ]
        },
        {
          "output_type": "stream",
          "name": "stdout",
          "text": [
            "\n",
            "LANE CHANGE TO RIGHT\u001b[F\n",
            "\n",
            "GOT EXEPTION TO PROCES THE IMAGE\u001b[F 1012\n"
          ]
        },
        {
          "output_type": "stream",
          "name": "stderr",
          "text": [
            "/usr/local/lib/python3.7/dist-packages/scipy/optimize/minpack.py:808: OptimizeWarning: Covariance of the parameters could not be estimated\n",
            "  category=OptimizeWarning)\n",
            " 23%|██▎       | 2062/8991 [00:46<01:59, 57.86it/s]"
          ]
        },
        {
          "output_type": "stream",
          "name": "stdout",
          "text": [
            "\n",
            "\rLANE CHANGE TO RIGHT\u001b[F\n",
            "\n",
            "LANE CHANGE TO RIGHT\u001b[F\n",
            "\n",
            "LANE CHANGE TO LEFT\u001b[F\n"
          ]
        },
        {
          "output_type": "stream",
          "name": "stderr",
          "text": [
            "\r 25%|██▌       | 2249/8991 [00:49<02:00, 56.16it/s]"
          ]
        },
        {
          "output_type": "stream",
          "name": "stdout",
          "text": [
            "\n",
            "\rLANE CHANGE TO LEFT\u001b[F\n"
          ]
        },
        {
          "output_type": "stream",
          "name": "stderr",
          "text": [
            "\r 27%|██▋       | 2427/8991 [00:53<01:58, 55.59it/s]"
          ]
        },
        {
          "output_type": "stream",
          "name": "stdout",
          "text": [
            "\n",
            "\rLANE CHANGE TO RIGHT\u001b[F\n",
            "SKIPPED 24% BREACHED 16% RESET 2% APPENDED 55% | Time 14s , Processing FPS 30.00 vs Desired FPS 14.00  \n",
            "\n",
            "LANE CHANGE TO LEFT\u001b[F\n"
          ]
        },
        {
          "output_type": "stream",
          "name": "stderr",
          "text": [
            "\r 29%|██▉       | 2607/8991 [00:56<01:52, 56.74it/s]"
          ]
        },
        {
          "output_type": "stream",
          "name": "stdout",
          "text": [
            "\n",
            "\rLANE CHANGE TO RIGHT\u001b[F\n"
          ]
        },
        {
          "output_type": "stream",
          "name": "stderr",
          "text": [
            "\r 31%|███       | 2782/8991 [01:00<02:02, 50.85it/s]"
          ]
        },
        {
          "output_type": "stream",
          "name": "stdout",
          "text": [
            "\n",
            "\rLANE CHANGE TO LEFT\u001b[F\n"
          ]
        },
        {
          "output_type": "stream",
          "name": "stderr",
          "text": [
            " 36%|███▌      | 3251/8991 [01:13<02:28, 38.58it/s]"
          ]
        },
        {
          "output_type": "stream",
          "name": "stdout",
          "text": [
            "SKIPPED 46% BREACHED 11% RESET 1% APPENDED 40% | Time 21s , Processing FPS 20.00 vs Desired FPS 14.00  \n"
          ]
        },
        {
          "output_type": "stream",
          "name": "stderr",
          "text": [
            "\r 38%|███▊      | 3429/8991 [01:16<02:08, 43.31it/s]"
          ]
        },
        {
          "output_type": "stream",
          "name": "stdout",
          "text": [
            "\n",
            "\rLANE CHANGE TO LEFT\u001b[F\n"
          ]
        },
        {
          "output_type": "stream",
          "name": "stderr",
          "text": [
            "\r 40%|███▉      | 3572/8991 [01:19<02:02, 44.20it/s]"
          ]
        },
        {
          "output_type": "stream",
          "name": "stdout",
          "text": [
            "\n",
            "LANE CHANGE TO RIGHT\u001b[F\n",
            "\n",
            "LANE CHANGE TO LEFT\u001b[F\n"
          ]
        },
        {
          "output_type": "stream",
          "name": "stderr",
          "text": [
            " 43%|████▎     | 3895/8991 [01:25<01:44, 48.61it/s]"
          ]
        },
        {
          "output_type": "stream",
          "name": "stdout",
          "text": [
            "\n",
            "LANE CHANGE TO LEFT\u001b[F\n",
            "\n",
            "LANE CHANGE TO RIGHT\u001b[F\n"
          ]
        },
        {
          "output_type": "stream",
          "name": "stderr",
          "text": [
            "\r 45%|████▌     | 4049/8991 [01:28<01:40, 49.30it/s]"
          ]
        },
        {
          "output_type": "stream",
          "name": "stdout",
          "text": [
            "\n",
            "LANE CHANGE TO LEFT\u001b[F\n",
            "\n",
            "LANE CHANGE TO RIGHT\u001b[F\n"
          ]
        },
        {
          "output_type": "stream",
          "name": "stderr",
          "text": [
            "\r 47%|████▋     | 4202/8991 [01:32<01:40, 47.87it/s]"
          ]
        },
        {
          "output_type": "stream",
          "name": "stdout",
          "text": [
            "SKIPPED 46% BREACHED 15% RESET 2% APPENDED 35% | Time 16s , Processing FPS 26.25 vs Desired FPS 14.00  \n",
            "\n",
            "LANE CHANGE TO RIGHT\u001b[F\n",
            "\n",
            "LANE CHANGE TO LEFT\u001b[F\n",
            "\n",
            "LANE CHANGE TO LEFT\u001b[F\n"
          ]
        },
        {
          "output_type": "stream",
          "name": "stderr",
          "text": [
            "\r 49%|████▉     | 4399/8991 [01:35<01:26, 52.87it/s]"
          ]
        },
        {
          "output_type": "stream",
          "name": "stdout",
          "text": [
            "\n",
            "LANE CHANGE TO RIGHT\u001b[F\n",
            "\n",
            "LANE CHANGE TO RIGHT\u001b[F\n"
          ]
        },
        {
          "output_type": "stream",
          "name": "stderr",
          "text": [
            " 54%|█████▍    | 4857/8991 [01:41<01:04, 63.71it/s]"
          ]
        },
        {
          "output_type": "stream",
          "name": "stdout",
          "text": [
            "\n",
            "\rGOT EXEPTION TO PROCES THE IMAGE\u001b[F 2447\n",
            "\n",
            "\rGOT EXEPTION TO PROCES THE IMAGE\u001b[F 2448\n",
            "\n",
            "GOT EXEPTION TO PROCES THE IMAGE\u001b[F 2450\n",
            "\n",
            "LANE CHANGE TO LEFT\u001b[F\n",
            "SKIPPED 38% BREACHED 9% RESET 1% APPENDED 50% | Time 12s , Processing FPS 35.00 vs Desired FPS 14.00  \n"
          ]
        },
        {
          "output_type": "stream",
          "name": "stderr",
          "text": [
            "\r 56%|█████▌    | 5051/8991 [01:44<01:05, 60.52it/s]"
          ]
        },
        {
          "output_type": "stream",
          "name": "stdout",
          "text": [
            "\n",
            "\rLANE CHANGE TO RIGHT\u001b[F\n"
          ]
        },
        {
          "output_type": "stream",
          "name": "stderr",
          "text": [
            " 63%|██████▎   | 5698/8991 [01:54<00:53, 61.03it/s]"
          ]
        },
        {
          "output_type": "stream",
          "name": "stdout",
          "text": [
            "\n",
            "\rGOT EXEPTION TO PROCES THE IMAGE\u001b[F 2850\n",
            "\n",
            "GOT EXEPTION TO PROCES THE IMAGE\u001b[F 2852\n",
            "\n",
            "GOT EXEPTION TO PROCES THE IMAGE\u001b[F 2859\n",
            "\n",
            "LANE CHANGE TO RIGHT\u001b[F\n",
            "\n",
            "LANE CHANGE TO LEFT\u001b[F\n",
            "\n",
            "GOT EXEPTION TO PROCES THE IMAGE\u001b[F 2922\n"
          ]
        },
        {
          "output_type": "stream",
          "name": "stderr",
          "text": [
            "\r 65%|██████▌   | 5884/8991 [01:59<00:57, 53.66it/s]"
          ]
        },
        {
          "output_type": "stream",
          "name": "stdout",
          "text": [
            "SKIPPED 44% BREACHED 8% RESET 1% APPENDED 44% | Time 14s , Processing FPS 30.00 vs Desired FPS 14.00  \n",
            "\n",
            "LANE CHANGE TO RIGHT\u001b[F\n",
            "\n",
            "LANE CHANGE TO LEFT\u001b[F\n"
          ]
        },
        {
          "output_type": "stream",
          "name": "stderr",
          "text": [
            "\r 67%|██████▋   | 6051/8991 [02:02<00:55, 52.56it/s]"
          ]
        },
        {
          "output_type": "stream",
          "name": "stdout",
          "text": [
            "\n",
            "\rLANE CHANGE TO LEFT\u001b[F\n"
          ]
        },
        {
          "output_type": "stream",
          "name": "stderr",
          "text": [
            "\r 69%|██████▉   | 6217/8991 [02:05<00:52, 53.16it/s]"
          ]
        },
        {
          "output_type": "stream",
          "name": "stdout",
          "text": [
            "\n",
            "LANE CHANGE TO RIGHT\u001b[F\n",
            "\n",
            "LANE CHANGE TO LEFT\u001b[F\n"
          ]
        },
        {
          "output_type": "stream",
          "name": "stderr",
          "text": [
            "\r 71%|███████   | 6380/8991 [02:09<00:50, 51.75it/s]"
          ]
        },
        {
          "output_type": "stream",
          "name": "stdout",
          "text": [
            "\n",
            "LANE CHANGE TO RIGHT\u001b[F\n",
            "\n",
            "LANE CHANGE TO LEFT\u001b[F\n"
          ]
        },
        {
          "output_type": "stream",
          "name": "stderr",
          "text": [
            "\r 73%|███████▎  | 6561/8991 [02:12<00:44, 54.01it/s]"
          ]
        },
        {
          "output_type": "stream",
          "name": "stdout",
          "text": [
            "\n",
            "LANE CHANGE TO LEFT\u001b[F\n",
            "\n",
            "GOT EXEPTION TO PROCES THE IMAGE\u001b[F 3307\n",
            "\n",
            "LANE CHANGE TO RIGHT\u001b[F\n",
            "\n",
            "LANE CHANGE TO RIGHT\u001b[F\n"
          ]
        },
        {
          "output_type": "stream",
          "name": "stderr",
          "text": [
            "\r 75%|███████▍  | 6725/8991 [02:15<00:44, 51.43it/s]"
          ]
        },
        {
          "output_type": "stream",
          "name": "stdout",
          "text": [
            "SKIPPED 33% BREACHED 18% RESET 2% APPENDED 45% | Time 16s , Processing FPS 26.25 vs Desired FPS 14.00  \n"
          ]
        },
        {
          "output_type": "stream",
          "name": "stderr",
          "text": [
            "\r 77%|███████▋  | 6882/8991 [02:19<00:42, 50.19it/s]"
          ]
        },
        {
          "output_type": "stream",
          "name": "stdout",
          "text": [
            "\n",
            "\rGOT EXEPTION TO PROCES THE IMAGE\u001b[F 3497\n",
            "\n",
            "GOT EXEPTION TO PROCES THE IMAGE\u001b[F 3503\n",
            "\n",
            "GOT EXEPTION TO PROCES THE IMAGE\u001b[F 3512\n"
          ]
        },
        {
          "output_type": "stream",
          "name": "stderr",
          "text": [
            " 82%|████████▏ | 7395/8991 [02:25<00:23, 68.45it/s]"
          ]
        },
        {
          "output_type": "stream",
          "name": "stdout",
          "text": [
            "SKIPPED 71% BREACHED 9% RESET 0% APPENDED 16% | Time 11s , Processing FPS 38.18 vs Desired FPS 14.00  \n",
            "\n",
            "LANE CHANGE TO RIGHT\u001b[F\n"
          ]
        },
        {
          "output_type": "stream",
          "name": "stderr",
          "text": [
            " 87%|████████▋ | 7835/8991 [02:33<00:19, 58.06it/s]"
          ]
        },
        {
          "output_type": "stream",
          "name": "stdout",
          "text": [
            "\n",
            "LANE CHANGE TO RIGHT\u001b[F\n",
            "\n",
            "GOT EXEPTION TO PROCES THE IMAGE\u001b[F 4004\n",
            "\n",
            "GOT EXEPTION TO PROCES THE IMAGE\u001b[F 4005\n",
            "\n",
            "GOT EXEPTION TO PROCES THE IMAGE\u001b[F 4006\n",
            "\n",
            "GOT EXEPTION TO PROCES THE IMAGE\u001b[F 4007\n",
            "\n",
            "GOT EXEPTION TO PROCES THE IMAGE\u001b[F 4008\n"
          ]
        },
        {
          "output_type": "stream",
          "name": "stderr",
          "text": [
            "\r 89%|████████▉ | 8022/8991 [02:38<00:19, 50.04it/s]"
          ]
        },
        {
          "output_type": "stream",
          "name": "stdout",
          "text": [
            "\n",
            "\rGOT EXEPTION TO PROCES THE IMAGE\u001b[F 4010\n",
            "\n",
            "LANE CHANGE TO LEFT\u001b[F\n",
            "\n",
            "GOT EXEPTION TO PROCES THE IMAGE\u001b[F 4062\n",
            "\n",
            "LANE CHANGE TO RIGHT\u001b[F\n",
            "\n",
            "LANE CHANGE TO LEFT\u001b[F\n"
          ]
        },
        {
          "output_type": "stream",
          "name": "stderr",
          "text": [
            "\r 91%|█████████ | 8186/8991 [02:43<00:18, 43.13it/s]"
          ]
        },
        {
          "output_type": "stream",
          "name": "stdout",
          "text": [
            "\n",
            "LANE CHANGE TO RIGHT\u001b[F\n",
            "\n",
            "LANE CHANGE TO RIGHT\u001b[F\n",
            "\n",
            "LANE CHANGE TO LEFT\u001b[F\n",
            "\n",
            "LANE CHANGE TO RIGHT\u001b[F\n"
          ]
        },
        {
          "output_type": "stream",
          "name": "stderr",
          "text": [
            "\r 93%|█████████▎| 8328/8991 [02:49<00:17, 37.63it/s]"
          ]
        },
        {
          "output_type": "stream",
          "name": "stdout",
          "text": [
            "SKIPPED 45% BREACHED 17% RESET 2% APPENDED 32% | Time 24s , Processing FPS 17.50 vs Desired FPS 14.00  \n"
          ]
        },
        {
          "output_type": "stream",
          "name": "stderr",
          "text": [
            "\r 94%|█████████▍| 8452/8991 [02:52<00:14, 36.68it/s]"
          ]
        },
        {
          "output_type": "stream",
          "name": "stdout",
          "text": [
            "\n",
            "LANE CHANGE TO LEFT\u001b[F\n",
            "\n",
            "LANE CHANGE TO RIGHT\u001b[F\n"
          ]
        },
        {
          "output_type": "stream",
          "name": "stderr",
          "text": [
            "\r 95%|█████████▌| 8569/8991 [02:56<00:11, 35.97it/s]"
          ]
        },
        {
          "output_type": "stream",
          "name": "stdout",
          "text": [
            "\n",
            "\rLANE CHANGE TO RIGHT\u001b[F\n"
          ]
        },
        {
          "output_type": "stream",
          "name": "stderr",
          "text": [
            "\r 97%|█████████▋| 8723/8991 [02:59<00:06, 39.48it/s]"
          ]
        },
        {
          "output_type": "stream",
          "name": "stdout",
          "text": [
            "\n",
            "\rLANE CHANGE TO RIGHT\u001b[F\n"
          ]
        },
        {
          "output_type": "stream",
          "name": "stderr",
          "text": [
            "100%|██████████| 8991/8991 [03:05<00:00, 48.58it/s]"
          ]
        },
        {
          "output_type": "stream",
          "name": "stdout",
          "text": [
            "SKIPPED 1758 BREACHED 520 RESET 78 APPENDED 2121 | Total 4495 \n",
            "SAVED TO  /content/videos/output.mp4\n"
          ]
        },
        {
          "output_type": "stream",
          "name": "stderr",
          "text": [
            "\n"
          ]
        }
      ]
    },
    {
      "cell_type": "code",
      "metadata": {
        "id": "tArbvmMoY5Lk"
      },
      "source": [
        "\n"
      ],
      "execution_count": null,
      "outputs": []
    }
  ]
}